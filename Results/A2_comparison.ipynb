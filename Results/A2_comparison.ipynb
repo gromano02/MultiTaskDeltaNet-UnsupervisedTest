{
 "cells": [
  {
   "cell_type": "code",
   "execution_count": 15,
   "id": "b0aea1f5-91b3-4f5b-b3cf-9a6308679b45",
   "metadata": {},
   "outputs": [],
   "source": [
    "import cv2\n",
    "import numpy as np\n",
    "import os\n",
    "\n",
    "def create_mask_for_black_pixels(image):\n",
    "    return image == 0  # Mask for black pixels\n",
    "\n",
    "# Input paths\n",
    "raw_image_folder = '/Users/yun13001/Documents/jupyter_notebook/Carbon/dataset2/tianyu_new_data/tianyu_new_data/Results_for_cropped_region/results6/results_20250113/groundtruth/203/img/'\n",
    "a2_gt_folder = '/Users/yun13001/Documents/jupyter_notebook/Carbon/dataset2/tianyu_new_data/tianyu_new_data/Results_for_cropped_region/results6/results_20250113/groundtruth/203/area2/'\n",
    "#a2_pred_folder = '/Users/yun13001/Documents/jupyter_notebook/Carbon/dataset2/tianyu_new_data/tianyu_new_data/Results_for_cropped_region/results6/results_20250113/siam_unet2/201/area2/'\n",
    "#output_folder_combined = '/Users/yun13001/Documents/jupyter_notebook/Carbon/dataset2/tianyu_new_data/tianyu_new_data/Results_for_cropped_region/results6/results_20250113/Comparision_a2/siam_unet2/201/'\n",
    "\n",
    "a2_pred_folder = '/Users/yun13001/Documents/jupyter_notebook/Carbon/dataset2/tianyu_new_data/tianyu_new_data/Results_for_cropped_region/results6/results_20250113/unet/203/area2/'\n",
    "output_folder_combined = '/Users/yun13001/Documents/jupyter_notebook/Carbon/dataset2/tianyu_new_data/tianyu_new_data/Results_for_cropped_region/results6/results_20250113/Comparision_a2/Unet/203/'"
   ]
  },
  {
   "cell_type": "code",
   "execution_count": 16,
   "id": "26ee9ad5-2a2f-458d-a2b5-7e4f44007f2f",
   "metadata": {},
   "outputs": [
    {
     "name": "stdout",
     "output_type": "stream",
     "text": [
      "Processed: 203_r1_000088.png\n",
      "Processed: 203_r1_000200.png\n",
      "Processed: 203_r1_000300.png\n",
      "Processed: 203_r1_000400.png\n",
      "Processed: 203_r1_000500.png\n",
      "Processed: 203_r1_000600.png\n",
      "Processed: 203_r1_000700.png\n",
      "Processed: 203_r1_000800.png\n",
      "Processed: 203_r1_000900.png\n",
      "Processed: 203_r1_001000.png\n",
      "Processed: 203_r1_001100.png\n",
      "Processed: 203_r1_001200.png\n",
      "Processed: 203_r1_001300.png\n",
      "Processed: 203_r1_001400.png\n",
      "A2 combined processing complete. Outputs saved.\n"
     ]
    }
   ],
   "source": [
    "# Ensure output directory exists\n",
    "os.makedirs(output_folder_combined, exist_ok=True)\n",
    "\n",
    "# Processing loop for A2\n",
    "for filename in sorted(os.listdir(a2_gt_folder)):\n",
    "    if filename.endswith('.png'):\n",
    "        # Paths\n",
    "        raw_path = os.path.join(raw_image_folder, filename)\n",
    "        a2_gt_path = os.path.join(a2_gt_folder, filename)\n",
    "        a2_pred_path = os.path.join(a2_pred_folder, filename)\n",
    "        output_path = os.path.join(output_folder_combined, filename)\n",
    "\n",
    "        # Load images\n",
    "        raw_image = cv2.imread(raw_path)\n",
    "        a2_gt = cv2.imread(a2_gt_path, cv2.IMREAD_GRAYSCALE)\n",
    "        a2_pred = cv2.imread(a2_pred_path, cv2.IMREAD_GRAYSCALE)\n",
    "\n",
    "        # Verify images\n",
    "        if any(img is None for img in [raw_image, a2_gt, a2_pred]):\n",
    "            print(f\"Warning: Missing images for {filename}. Skipping...\")\n",
    "            continue\n",
    "\n",
    "        # Create masks\n",
    "        a2_gt_mask = create_mask_for_black_pixels(a2_gt)\n",
    "        a2_pred_mask = create_mask_for_black_pixels(a2_pred)\n",
    "\n",
    "        # False Negatives: GT but not predicted\n",
    "        false_negative_mask = np.logical_and(a2_gt_mask, ~a2_pred_mask)\n",
    "\n",
    "        # False Positives: predicted but not in GT\n",
    "        false_positive_mask = np.logical_and(~a2_gt_mask, a2_pred_mask)\n",
    "\n",
    "        # Combined output: copy of raw image\n",
    "        combined_output = raw_image.copy()\n",
    "\n",
    "        # Apply overlays\n",
    "        #combined_output[a2_gt_mask] = [94, 164, 244]  \n",
    "        #combined_output[false_negative_mask] = [174, 214, 254]  # Lighter: False Negative\n",
    "        #combined_output[false_positive_mask] = [54, 114, 204]  # Heavier: False Positive\n",
    "        combined_output[false_negative_mask] = [150, 180, 240]  # Lighter: False Negative\n",
    "        combined_output[false_positive_mask] = [10, 50, 100]  # Heavier: False Positive\n",
    "        \n",
    "        # Save result\n",
    "        cv2.imwrite(output_path, combined_output)\n",
    "        print(f\"Processed: {filename}\")\n",
    "\n",
    "print(\"A2 combined processing complete. Outputs saved.\")\n"
   ]
  },
  {
   "cell_type": "code",
   "execution_count": null,
   "id": "31bbc7ac-5747-4db2-96b6-77476ac5cf94",
   "metadata": {},
   "outputs": [],
   "source": []
  },
  {
   "cell_type": "code",
   "execution_count": null,
   "id": "75d6b1c4-0cd6-4b16-b78f-8f46b5a5a547",
   "metadata": {},
   "outputs": [],
   "source": []
  },
  {
   "cell_type": "code",
   "execution_count": null,
   "id": "abcf9947-9329-4f26-865c-1a5b0881883f",
   "metadata": {},
   "outputs": [],
   "source": []
  }
 ],
 "metadata": {
  "kernelspec": {
   "display_name": "Python 3 (ipykernel)",
   "language": "python",
   "name": "python3"
  },
  "language_info": {
   "codemirror_mode": {
    "name": "ipython",
    "version": 3
   },
   "file_extension": ".py",
   "mimetype": "text/x-python",
   "name": "python",
   "nbconvert_exporter": "python",
   "pygments_lexer": "ipython3",
   "version": "3.10.13"
  }
 },
 "nbformat": 4,
 "nbformat_minor": 5
}

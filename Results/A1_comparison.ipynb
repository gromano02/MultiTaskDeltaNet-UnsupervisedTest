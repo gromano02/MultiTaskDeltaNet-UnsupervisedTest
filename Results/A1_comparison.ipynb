{
 "cells": [
  {
   "cell_type": "code",
   "execution_count": 9,
   "id": "115cabdd-2fff-4b35-93c7-170e36a89dfa",
   "metadata": {},
   "outputs": [],
   "source": [
    "import cv2\n",
    "import numpy as np\n",
    "import os\n",
    "\n",
    "def create_mask_for_black_pixels(image):\n",
    "    return image == 0  # Mask for black pixels"
   ]
  },
  {
   "cell_type": "code",
   "execution_count": 10,
   "id": "c2b63631-8bc8-42cf-82ef-1871668d66b1",
   "metadata": {},
   "outputs": [],
   "source": [
    "raw_image_folder = '/Users/yun13001/Documents/jupyter_notebook/Carbon/dataset2/tianyu_new_data/tianyu_new_data/Results_for_cropped_region/results6/results_20250113/groundtruth/203/img/'\n",
    "a1_gt_folder = '/Users/yun13001/Documents/jupyter_notebook/Carbon/dataset2/tianyu_new_data/tianyu_new_data/Results_for_cropped_region/results6/results_20250113/groundtruth/203/area1/'\n",
    "#a1_pred_folder = '/Users/yun13001/Documents/jupyter_notebook/Carbon/dataset2/tianyu_new_data/tianyu_new_data/Results_for_cropped_region/results6/results_20250113/siam_unet2/203/area1/'\n",
    "#output_folder_combined = '/Users/yun13001/Documents/jupyter_notebook/Carbon/dataset2/tianyu_new_data/tianyu_new_data/Results_for_cropped_region/results6/results_20250113/Comparision_a1/siam_unet2/203/'\n",
    "\n",
    "a1_pred_folder = '/Users/yun13001/Documents/jupyter_notebook/Carbon/dataset2/tianyu_new_data/tianyu_new_data/Results_for_cropped_region/results6/results_20250113/unet/203/area1/'\n",
    "output_folder_combined = '/Users/yun13001/Documents/jupyter_notebook/Carbon/dataset2/tianyu_new_data/tianyu_new_data/Results_for_cropped_region/results6/results_20250113/Comparision_a1/Unet/203/'"
   ]
  },
  {
   "cell_type": "code",
   "execution_count": 11,
   "id": "0fd8b9ef-678a-453e-a28f-81318a7e30f6",
   "metadata": {},
   "outputs": [
    {
     "name": "stdout",
     "output_type": "stream",
     "text": [
      "Processed: 203_r1_000088.png\n",
      "Processed: 203_r1_000200.png\n",
      "Processed: 203_r1_000300.png\n",
      "Processed: 203_r1_000400.png\n",
      "Processed: 203_r1_000500.png\n",
      "Processed: 203_r1_000600.png\n",
      "Processed: 203_r1_000700.png\n",
      "Processed: 203_r1_000800.png\n",
      "Processed: 203_r1_000900.png\n",
      "Processed: 203_r1_001000.png\n",
      "Processed: 203_r1_001100.png\n",
      "Processed: 203_r1_001200.png\n",
      "Processed: 203_r1_001300.png\n",
      "Processed: 203_r1_001400.png\n",
      "A1 combined processing complete. Outputs saved.\n"
     ]
    }
   ],
   "source": [
    "# Ensure output directory exists\n",
    "os.makedirs(output_folder_combined, exist_ok=True)\n",
    "\n",
    "# Processing loop for A1\n",
    "for filename in sorted(os.listdir(a1_gt_folder)):\n",
    "    if filename.endswith('.png'):\n",
    "        # Paths\n",
    "        raw_path = os.path.join(raw_image_folder, filename)\n",
    "        a1_gt_path = os.path.join(a1_gt_folder, filename)\n",
    "        a1_pred_path = os.path.join(a1_pred_folder, filename)\n",
    "        output_path = os.path.join(output_folder_combined, filename)\n",
    "\n",
    "        # Load images\n",
    "        raw_image = cv2.imread(raw_path)\n",
    "        a1_gt = cv2.imread(a1_gt_path, cv2.IMREAD_GRAYSCALE)\n",
    "        a1_pred = cv2.imread(a1_pred_path, cv2.IMREAD_GRAYSCALE)\n",
    "\n",
    "        # Verify images\n",
    "        if any(img is None for img in [raw_image, a1_gt, a1_pred]):\n",
    "            print(f\"Warning: Missing images for {filename}. Skipping...\")\n",
    "            continue\n",
    "\n",
    "        # Create masks\n",
    "        a1_gt_mask = create_mask_for_black_pixels(a1_gt)\n",
    "        a1_pred_mask = create_mask_for_black_pixels(a1_pred)\n",
    "\n",
    "        # False Negatives: GT but not predicted\n",
    "        false_negative_mask = np.logical_and(a1_gt_mask, ~a1_pred_mask)\n",
    "\n",
    "        # False Positives: predicted but not in GT\n",
    "        false_positive_mask = np.logical_and(~a1_gt_mask, a1_pred_mask)\n",
    "\n",
    "        # Combined output: copy of raw image\n",
    "        combined_output = raw_image.copy()\n",
    "\n",
    "        # Apply overlays\n",
    "        #combined_output[a1_gt_mask] = [30, 105, 210]  \n",
    "        combined_output[false_negative_mask] = [150, 180, 240]  # Lighter: False Negative\n",
    "        combined_output[false_positive_mask] = [10, 50, 100]  # Heavier: False Positive\n",
    "\n",
    "        # Save result\n",
    "        cv2.imwrite(output_path, combined_output)\n",
    "        print(f\"Processed: {filename}\")\n",
    "\n",
    "print(\"A1 combined processing complete. Outputs saved.\")\n"
   ]
  },
  {
   "cell_type": "code",
   "execution_count": null,
   "id": "7f4d8c3c-ffdc-4e6f-82c1-3406d90c4cab",
   "metadata": {},
   "outputs": [],
   "source": []
  },
  {
   "cell_type": "code",
   "execution_count": null,
   "id": "059125d0-216e-4d8e-96b2-31271e0585dd",
   "metadata": {},
   "outputs": [],
   "source": []
  }
 ],
 "metadata": {
  "kernelspec": {
   "display_name": "Python 3 (ipykernel)",
   "language": "python",
   "name": "python3"
  },
  "language_info": {
   "codemirror_mode": {
    "name": "ipython",
    "version": 3
   },
   "file_extension": ".py",
   "mimetype": "text/x-python",
   "name": "python",
   "nbconvert_exporter": "python",
   "pygments_lexer": "ipython3",
   "version": "3.10.13"
  }
 },
 "nbformat": 4,
 "nbformat_minor": 5
}
